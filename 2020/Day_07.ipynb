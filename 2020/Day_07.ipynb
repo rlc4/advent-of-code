{
 "cells": [
  {
   "cell_type": "markdown",
   "metadata": {},
   "source": [
    "# Day 7"
   ]
  },
  {
   "cell_type": "markdown",
   "metadata": {},
   "source": [
    "### Part 1\n",
    "\n",
    "You land at the regional airport in time for your next flight. In fact, it looks like you'll even have time to grab some food: all flights are currently delayed due to **issues in luggage processing**.\n",
    "\n",
    "Due to recent aviation regulations, many rules (your puzzle input) are being enforced about bags and their contents; bags must be color-coded and must contain specific quantities of other color-coded bags. Apparently, nobody responsible for these regulations considered how long they would take to enforce!\n",
    "\n",
    "For example, consider the following rules:\n",
    "```\n",
    "light red bags contain 1 bright white bag, 2 muted yellow bags.  \n",
    "dark orange bags contain 3 bright white bags, 4 muted yellow bags.  \n",
    "bright white bags contain 1 shiny gold bag.  \n",
    "muted yellow bags contain 2 shiny gold bags, 9 faded blue bags.  \n",
    "shiny gold bags contain 1 dark olive bag, 2 vibrant plum bags.  \n",
    "dark olive bags contain 3 faded blue bags, 4 dotted black bags.  \n",
    "vibrant plum bags contain 5 faded blue bags, 6 dotted black bags.  \n",
    "faded blue bags contain no other bags.  \n",
    "dotted black bags contain no other bags.\n",
    "```\n",
    "\n",
    "These rules specify the required contents for 9 bag types. In this example, every faded blue bag is empty, every vibrant plum bag contains 11 bags (5 faded blue and 6 dotted black), and so on.\n",
    "\n",
    "You have a shiny gold bag. If you wanted to carry it in at least one other bag, how many different bag colors would be valid for the outermost bag? (In other words: how many colors can, eventually, contain at least one shiny gold bag?)\n",
    "\n",
    "In the above rules, the following options would be available to you:\n",
    "\n",
    "- A bright white bag, which can hold your shiny gold bag directly.\n",
    "- A muted yellow bag, which can hold your shiny gold bag directly, plus some other bags.\n",
    "- A dark orange bag, which can hold bright white and muted yellow bags, either of which could then hold your shiny gold bag.\n",
    "- A light red bag, which can hold bright white and muted yellow bags, either of which could then hold your shiny gold bag.\n",
    "\n",
    "So, in this example, the number of bag colors that can eventually contain at least one shiny gold bag is 4.\n",
    "\n",
    "How many bag colors can eventually contain at least one shiny gold bag? (The list of rules is quite long; make sure you get all of it.)"
   ]
  },
  {
   "cell_type": "code",
   "execution_count": null,
   "metadata": {},
   "outputs": [],
   "source": [
    "debug = False\n",
    "FILENAME=\"data/Day_07_input.txt\""
   ]
  },
  {
   "cell_type": "code",
   "execution_count": null,
   "metadata": {},
   "outputs": [],
   "source": [
    "import re\n",
    "from pprint import pprint\n",
    "bags = {}\n",
    "\n",
    "with open(FILENAME) as reader:\n",
    "    for line in reader.readlines():\n",
    "        line = line.strip()\n",
    "        #if debug: print(line)\n",
    "        m = re.match(r'(.*) bags contain (.*)', line)\n",
    "        container = m.group(1)\n",
    "        if container not in bags.keys():\n",
    "            bags[container] = []\n",
    "        #if debug: print(\"container: \", container)\n",
    "        contains = []\n",
    "        for content in m.group(2).split(', '):\n",
    "            if content == \"no other bags.\":   \n",
    "                break\n",
    "            m = re.match(r'\\S*(\\d+) (.*) bags?\\.?', content)\n",
    "            color =  m.group(2)\n",
    "            if color not in bags.keys():\n",
    "                bags[color] = []\n",
    "            #if debug: print(\"++\", m.group(1),\"-\", m.group(2))\n",
    "            bags[color].append( {container: int(m.group(1))}  )     \n",
    "\n",
    "if debug: pprint(bags)\n",
    "    "
   ]
  },
  {
   "cell_type": "code",
   "execution_count": null,
   "metadata": {},
   "outputs": [],
   "source": [
    "to_search = ['shiny gold']\n",
    "found = set()\n",
    "\n",
    "while len(to_search)>0:\n",
    "    color = to_search.pop()\n",
    "    for item in bags[color]:\n",
    "        for key in item.keys():\n",
    "            to_search.append(key)\n",
    "            found.add(key)\n",
    "\n",
    "if debug: print(found)\n",
    "print(len(found))"
   ]
  },
  {
   "cell_type": "markdown",
   "metadata": {},
   "source": [
    "## Part 2\n",
    "\n",
    "It's getting pretty expensive to fly these days - not because of ticket prices, but because of the ridiculous number of bags you need to buy!\n",
    "\n",
    "Consider again your shiny gold bag and the rules from the above example:\n",
    "\n",
    "- faded blue bags contain 0 other bags.\n",
    "- dotted black bags contain 0 other bags.\n",
    "- vibrant plum bags contain 11 other bags: 5 faded blue bags and 6 dotted black bags.\n",
    "- dark olive bags contain 7 other bags: 3 faded blue bags and 4 dotted black bags.\n",
    "\n",
    "So, a single shiny gold bag must contain 1 dark olive bag (and the 7 bags within it) plus 2 vibrant plum bags (and the 11 bags within **each** of those): 1 + 1*7 + 2 + 2*11 = **32** bags!\n",
    "\n",
    "Of course, the actual rules have a small chance of going several levels deeper than this example; be sure to count all of the bags, even if the nesting becomes topologically impractical!\n",
    "\n",
    "Here's another example:\n",
    "\n",
    "- shiny gold bags contain 2 dark red bags.\n",
    "- dark red bags contain 2 dark orange bags.\n",
    "- dark orange bags contain 2 dark yellow bags.\n",
    "- dark yellow bags contain 2 dark green bags.\n",
    "- dark green bags contain 2 dark blue bags.\n",
    "- dark blue bags contain 2 dark violet bags.\n",
    "- dark violet bags contain no other bags.\n",
    "\n",
    "In this example, a single shiny gold bag must contain 126 other bags.\n",
    "\n",
    "**How many individual bags are required inside your single shiny gold bag?**\n"
   ]
  },
  {
   "cell_type": "code",
   "execution_count": null,
   "metadata": {},
   "outputs": [],
   "source": [
    "bags = {}\n",
    "\n",
    "# Fill up a lovely data structure with \n",
    "with open(FILENAME) as reader:\n",
    "    for line in reader.readlines():\n",
    "        line = line.strip()\n",
    "        m = re.match(r'(.*) bags contain (.*)', line)\n",
    "        container = m.group(1)\n",
    "        contains = []\n",
    "        # print(\"Container: {}\".format(container))\n",
    "        for content in m.group(2).split(', '):\n",
    "            content = content.strip()\n",
    "            if content != \"no other bags.\":\n",
    "                m = re.match(r'\\S*(\\d+) (.*) bags?\\.?', content)\n",
    "                color = m.group(2)\n",
    "                qty = int(m.group(1))\n",
    "                # if debug: print(\"\\tqty: {:-2}  color: {}\".format(qty, color))\n",
    "                contains.append({'qty':qty, 'color':color})\n",
    "            else:\n",
    "                pass\n",
    "        bags[container] = contains\n",
    "\n",
    "if debug: pprint(bags)"
   ]
  },
  {
   "cell_type": "code",
   "execution_count": null,
   "metadata": {},
   "outputs": [],
   "source": [
    "def get_bags(color,depth):\n",
    "    if debug: print(\"\\t\"*depth + \"Bag: {} => {}\".format(color, bags[color]))\n",
    "    depth += 1\n",
    "    count = 0\n",
    "    for bag in bags[color]:\n",
    "        # if debug: print(\"\\t\"*depth + \"Qty: {:-2} Color: {}\".format(bag['qty'], bag['color']))\n",
    "        count += bag['qty'] + (get_bags(bag['color'], depth)*bag['qty'])\n",
    "        if debug: print(\"\\t\"*depth + \"Count:\", count)\n",
    "    # print(\"Current Count: \", count)\n",
    "    return(count) # include a count of this color of bag\n",
    "\n",
    "start = \"shiny gold\"\n",
    "print(get_bags(start,0))"
   ]
  },
  {
   "cell_type": "markdown",
   "metadata": {},
   "source": [
    "## Done!"
   ]
  }
 ],
 "metadata": {
  "kernelspec": {
   "display_name": "Python 3",
   "language": "python",
   "name": "python3"
  },
  "language_info": {
   "codemirror_mode": {
    "name": "ipython",
    "version": 3
   },
   "file_extension": ".py",
   "mimetype": "text/x-python",
   "name": "python",
   "nbconvert_exporter": "python",
   "pygments_lexer": "ipython3",
   "version": "3.9.0"
  }
 },
 "nbformat": 4,
 "nbformat_minor": 4
}
