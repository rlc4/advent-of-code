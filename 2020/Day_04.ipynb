{
 "cells": [
  {
   "cell_type": "markdown",
   "metadata": {},
   "source": [
    "# Day 4 - Passport Processing\n",
    "\n",
    "```\n",
    "\n"
   ]
  },
  {
   "cell_type": "markdown",
   "metadata": {},
   "source": [
    "## --- Part 1 ---\n",
    "\n",
    "```\n",
    "You arrive at the airport only to realize that you grabbed your North Pole Credentials instead of your passport. While these documents are extremely similar, North Pole Credentials aren't issued by a country and therefore aren't actually valid documentation for travel in most of the world.\n",
    "\n",
    "It seems like you're not the only one having problems, though; a very long line has formed for the automatic passport scanners, and the delay could upset your travel itinerary.\n",
    "\n",
    "Due to some questionable network security, you realize you might be able to solve both of these problems at the same time.\n",
    "\n",
    "The automatic passport scanners are slow because they're having trouble detecting which passports have all required fields. The expected fields are as follows:\n",
    "\n",
    "byr (Birth Year)\n",
    "iyr (Issue Year)\n",
    "eyr (Expiration Year)\n",
    "hgt (Height)\n",
    "hcl (Hair Color)\n",
    "ecl (Eye Color)\n",
    "pid (Passport ID)\n",
    "cid (Country ID)\n",
    "Passport data is validated in batch files (your puzzle input). Each passport is represented as a sequence of key:value pairs separated by spaces or newlines. Passports are separated by blank lines.\n",
    "\n",
    "Here is an example batch file containing four passports:\n",
    "\n",
    "ecl:gry pid:860033327 eyr:2020 hcl:#fffffd\n",
    "byr:1937 iyr:2017 cid:147 hgt:183cm\n",
    "\n",
    "iyr:2013 ecl:amb cid:350 eyr:2023 pid:028048884\n",
    "hcl:#cfa07d byr:1929\n",
    "\n",
    "hcl:#ae17e1 iyr:2013\n",
    "eyr:2024\n",
    "ecl:brn pid:760753108 byr:1931\n",
    "hgt:179cm\n",
    "\n",
    "hcl:#cfa07d eyr:2025 pid:166559648\n",
    "iyr:2011 ecl:brn hgt:59in\n",
    "The first passport is valid - all eight fields are present. The second passport is invalid - it is missing hgt (the Height field).\n",
    "\n",
    "The third passport is interesting; the only missing field is cid, so it looks like data from North Pole Credentials, not a passport at all! Surely, nobody would mind if you made the system temporarily ignore missing cid fields. Treat this \"passport\" as valid.\n",
    "\n",
    "The fourth passport is missing two fields, cid and byr. Missing cid is fine, but missing any other field is not, so this passport is invalid.\n",
    "\n",
    "According to the above rules, your improved system would report 2 valid passports.\n",
    "\n",
    "Count the number of valid passports - those that have all required fields. Treat cid as optional. In your batch file, how many passports are valid?\n",
    "```"
   ]
  },
  {
   "cell_type": "code",
   "execution_count": 89,
   "metadata": {},
   "outputs": [
    {
     "name": "stdout",
     "output_type": "stream",
     "text": [
      "222\n"
     ]
    }
   ],
   "source": [
    "FILENAME = \"data/Day_04_input.txt\"\n",
    "debug = False\n",
    "\n",
    "from pprint import pprint\n",
    "import re\n",
    "\n",
    "MANDATORY=set({'byr','iyr','eyr','hgt','hcl','ecl','pid'})\n",
    "#MANDATORY=set({'byr'})# ,'iyr','eyr','hgt','hcl','ecl','pid'})\n",
    "\n",
    "count = 0\n",
    "pport=set()\n",
    "    \n",
    "with open(FILENAME) as reader:\n",
    "    for line in reader.readlines():\n",
    "        if line.strip() == \"\":\n",
    "            if MANDATORY.issubset(pport):\n",
    "                count += 1\n",
    "            pport=set({})\n",
    "        else:\n",
    "            for m in re.finditer(r'(\\S{3}):(\\S+)\\s',line):\n",
    "                pport.add(m.group(1))\n",
    "                \n",
    "    else:\n",
    "        if MANDATORY.issubset(pport):\n",
    "            count += 1\n",
    "\n",
    "print(count)"
   ]
  },
  {
   "cell_type": "markdown",
   "metadata": {},
   "source": [
    "## --- Part Two ---\n",
    "\n",
    "```\n",
    "The line is moving more quickly now, but you overhear airport security talking about how passports with invalid data are getting through. Better add some data validation, quick!\n",
    "\n",
    "You can continue to ignore the cid field, but each other field has strict rules about what values are valid for automatic validation:\n",
    "\n",
    "byr (Birth Year) - four digits; at least 1920 and at most 2002.\n",
    "iyr (Issue Year) - four digits; at least 2010 and at most 2020.\n",
    "eyr (Expiration Year) - four digits; at least 2020 and at most 2030.\n",
    "hgt (Height) - a number followed by either cm or in:\n",
    "If cm, the number must be at least 150 and at most 193.\n",
    "If in, the number must be at least 59 and at most 76.\n",
    "hcl (Hair Color) - a # followed by exactly six characters 0-9 or a-f.\n",
    "ecl (Eye Color) - exactly one of: amb blu brn gry grn hzl oth.\n",
    "pid (Passport ID) - a nine-digit number, including leading zeroes.\n",
    "cid (Country ID) - ignored, missing or not.\n",
    "Your job is to count the passports where all required fields are both present and valid according to the above rules. Here are some example values:\n",
    "\n",
    "byr valid:   2002\n",
    "byr invalid: 2003\n",
    "\n",
    "hgt valid:   60in\n",
    "hgt valid:   190cm\n",
    "hgt invalid: 190in\n",
    "hgt invalid: 190\n",
    "\n",
    "hcl valid:   #123abc\n",
    "hcl invalid: #123abz\n",
    "hcl invalid: 123abc\n",
    "\n",
    "ecl valid:   brn\n",
    "ecl invalid: wat\n",
    "\n",
    "pid valid:   000000001\n",
    "pid invalid: 0123456789\n",
    "Here are some invalid passports:\n",
    "\n",
    "eyr:1972 cid:100\n",
    "hcl:#18171d ecl:amb hgt:170 pid:186cm iyr:2018 byr:1926\n",
    "\n",
    "iyr:2019\n",
    "hcl:#602927 eyr:1967 hgt:170cm\n",
    "ecl:grn pid:012533040 byr:1946\n",
    "\n",
    "hcl:dab227 iyr:2012\n",
    "ecl:brn hgt:182cm pid:021572410 eyr:2020 byr:1992 cid:277\n",
    "\n",
    "hgt:59cm ecl:zzz\n",
    "eyr:2038 hcl:74454a iyr:2023\n",
    "pid:3556412378 byr:2007\n",
    "Here are some valid passports:\n",
    "\n",
    "pid:087499704 hgt:74in ecl:grn iyr:2012 eyr:2030 byr:1980\n",
    "hcl:#623a2f\n",
    "\n",
    "eyr:2029 ecl:blu cid:129 byr:1989\n",
    "iyr:2014 pid:896056539 hcl:#a97842 hgt:165cm\n",
    "\n",
    "hcl:#888785\n",
    "hgt:164cm byr:2001 iyr:2015 cid:88\n",
    "pid:545766238 ecl:hzl\n",
    "eyr:2022\n",
    "\n",
    "iyr:2010 hgt:158cm hcl:#b6652a ecl:blu byr:1944 eyr:2021 pid:093154719\n",
    "Count the number of valid passports - those that have all required fields and valid values. Continue to treat cid as optional. In your batch file, how many passports are valid?\n",
    "```"
   ]
  },
  {
   "cell_type": "code",
   "execution_count": 90,
   "metadata": {},
   "outputs": [],
   "source": [
    "# byr (Birth Year) - four digits; at least 1920 and at most 2002.\n",
    "\n",
    "def v_byr(value):\n",
    "    if debug: print(\"byr (1920-2002) -> \" + value)\n",
    "    if re.match('\\d{4}',value):\n",
    "        if int(value) >= 1920 and int(value) <= 2002:\n",
    "            return True\n",
    "    return False"
   ]
  },
  {
   "cell_type": "code",
   "execution_count": 91,
   "metadata": {},
   "outputs": [],
   "source": [
    "# ecl (Eye Color) - exactly one of: amb blu brn gry grn hzl oth.\n",
    "eyes = ['amb', 'blu', 'brn', 'gry', 'grn', 'hzl', 'oth']\n",
    "\n",
    "def v_ecl(value):\n",
    "    if debug: print(\"ecl (\" + \",\".join(eyes) + \") -> \" + value)\n",
    "    if value in eyes:\n",
    "        return True\n",
    "    return False"
   ]
  },
  {
   "cell_type": "code",
   "execution_count": 99,
   "metadata": {},
   "outputs": [],
   "source": [
    "# eyr (Expiration Year) - four digits; at least 2020 and at most 2030.\n",
    "\n",
    "def v_eyr(value):\n",
    "    if debug: print('eyr (2020-2030) -> ' + value)\n",
    "    if re.match('\\d{4}',value):\n",
    "        if int(value) >= 2020 and int(value) <= 2030: \n",
    "            return True\n",
    "    return False"
   ]
  },
  {
   "cell_type": "code",
   "execution_count": 100,
   "metadata": {},
   "outputs": [],
   "source": [
    "#  hcl (Hair Color) - a # followed by exactly six characters 0-9 or a-f.\n",
    "\n",
    "def v_hcl(value):\n",
    "    if debug: print('hcl (^#[a-f0-9]{6}$) -> ' + value)\n",
    "    if re.match('^#[a-f0-9]{6}$',value): \n",
    "        return True\n",
    "    return False"
   ]
  },
  {
   "cell_type": "code",
   "execution_count": 101,
   "metadata": {},
   "outputs": [],
   "source": [
    "# hgt (Height) - a number followed by either cm or in:\n",
    "# If cm, the number must be at least 150 and at most 193.\n",
    "# If in, the number must be at least 59 and at most 76.\n",
    "\n",
    "def v_hgt(value):\n",
    "    if debug: print('hgt (150-193cm, 59-76in) -> ' + value)\n",
    "    res = re.search('(\\d+)(cm|in)',value)\n",
    "    if res is not None:\n",
    "        if str(res.group(2)) == \"cm\":\n",
    "            if int(res.group(1)) >= 150 and int(res.group(1)) <= 193:\n",
    "                return True\n",
    "        elif str(res.group(2)) == \"in\":\n",
    "            if int(res.group(1)) >= 59 and int(res.group(1)) <= 76:\n",
    "                return True\n",
    "    return False"
   ]
  },
  {
   "cell_type": "code",
   "execution_count": 102,
   "metadata": {},
   "outputs": [],
   "source": [
    "# iyr (Issue Year) - four digits; at least 2010 and at most 2020.\n",
    "\n",
    "def v_iyr(value):\n",
    "    if debug: print('iyr (2010-2020) -> ' + value)\n",
    "    if re.match('\\d{4}',value):\n",
    "        if int(value) >= 2010 and int(value) <= 2020:\n",
    "            return True\n",
    "    return False"
   ]
  },
  {
   "cell_type": "code",
   "execution_count": 103,
   "metadata": {},
   "outputs": [],
   "source": [
    "# pid (Passport ID) - a nine-digit number, including leading zeroes.\n",
    "\n",
    "def v_pid(value):\n",
    "    if debug: print('pid (9 digits w/ 0s) -> ' + value)\n",
    "    if re.match('^\\d{9}$', value):\n",
    "        return True\n",
    "    return False"
   ]
  },
  {
   "cell_type": "code",
   "execution_count": 104,
   "metadata": {},
   "outputs": [
    {
     "name": "stdout",
     "output_type": "stream",
     "text": [
      "140\n"
     ]
    }
   ],
   "source": [
    "validate = {\n",
    "    'byr':v_byr,\n",
    "    'ecl':v_ecl,\n",
    "    'eyr':v_eyr,\n",
    "    'hcl':v_hcl,\n",
    "    'hgt':v_hgt,\n",
    "    'iyr':v_iyr,\n",
    "    'pid':v_pid\n",
    "}\n",
    "\n",
    "count = 0\n",
    "pport={}\n",
    "    \n",
    "with open(FILENAME) as reader:\n",
    "    for line in reader.readlines():\n",
    "        if line.strip() == \"\":\n",
    "            if MANDATORY.issubset(pport.keys()):\n",
    "                # print(pport)\n",
    "                for test in sorted(MANDATORY):\n",
    "                    if not validate[test](pport[test]):\n",
    "                        if debug: print(r\"//fail\\\\\")\n",
    "                        pport={}\n",
    "                        break\n",
    "                else:\n",
    "                    if debug: print(\"-=>>>VALID<<<=-\")\n",
    "                    count += 1\n",
    "            pport={}\n",
    "        else:\n",
    "            for m in re.finditer(r'(\\S{3}):(\\S+)\\s',line):\n",
    "                pport[m.group(1)] = m.group(2)\n",
    "    else:\n",
    "        if MANDATORY.issubset(pport):\n",
    "            for test in sorted(MANDATORY):\n",
    "                if not validate[test](pport[test]):\n",
    "                    pport={}\n",
    "                    break\n",
    "            else:\n",
    "                if debug: print(\".\")\n",
    "                count += 1\n",
    "            if debug: print()\n",
    "\n",
    "print(count)"
   ]
  },
  {
   "cell_type": "markdown",
   "metadata": {},
   "source": [
    "## Done!"
   ]
  }
 ],
 "metadata": {
  "kernelspec": {
   "display_name": "Python 3",
   "language": "python",
   "name": "python3"
  },
  "language_info": {
   "codemirror_mode": {
    "name": "ipython",
    "version": 3
   },
   "file_extension": ".py",
   "mimetype": "text/x-python",
   "name": "python",
   "nbconvert_exporter": "python",
   "pygments_lexer": "ipython3",
   "version": "3.9.0"
  }
 },
 "nbformat": 4,
 "nbformat_minor": 4
}
