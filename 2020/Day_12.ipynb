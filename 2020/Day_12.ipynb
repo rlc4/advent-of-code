{
 "cells": [
  {
   "cell_type": "markdown",
   "metadata": {},
   "source": [
    "# Day 12"
   ]
  },
  {
   "cell_type": "markdown",
   "metadata": {},
   "source": [
    "### Part 1: Rain Risk\n",
    "Your ferry made decent progress toward the island, but the storm came in faster than anyone expected. The ferry needs to take evasive actions!\n",
    "\n",
    "Unfortunately, the ship's navigation computer seems to be malfunctioning; rather than giving a route directly to safety, it produced extremely circuitous instructions. When the captain uses the PA system to ask if anyone can help, you quickly volunteer.\n",
    "\n",
    "The navigation instructions (your puzzle input) consists of a sequence of single-character **actions** paired with integer input **values**. After staring at them for a few minutes, you work out what they probably mean:\n",
    "\n",
    "- Action N means to move north by the given value.\n",
    "- Action S means to move south by the given value.\n",
    "- Action E means to move east by the given value.\n",
    "- Action W means to move west by the given value.\n",
    "- Action L means to turn left the given number of degrees.\n",
    "- Action R means to turn right the given number of degrees.\n",
    "- Action F means to move forward by the given value in the direction the ship is currently facing.\n",
    "\n",
    "The ship starts by facing east. Only the L and R actions change the direction the ship is facing. (That is, if the ship is facing east and the next instruction is N10, the ship would move north 10 units, but would still move east if the following action were F.)\n",
    "\n",
    "For example:\n",
    "```\n",
    "F10\n",
    "N3\n",
    "F7\n",
    "R90\n",
    "F11\n",
    "```\n",
    "These instructions would be handled as follows:\n",
    "\n",
    "- F10 would move the ship 10 units east (because the ship starts by facing east) to east 10, north 0.\n",
    "- N3 would move the ship 3 units north to east 10, north 3.\n",
    "- F7 would move the ship another 7 units east (because the ship is still facing east) to east 17, north 3.\n",
    "- R90 would cause the ship to turn right by 90 degrees and face south; it remains at east 17, north 3.\n",
    "- F11 would move the ship 11 units south to east 17, south 8.\n",
    "\n",
    "At the end of these instructions, the ship's Manhattan distance (sum of the absolute values of its east/west position and its north/south position) from its starting position is 17 + 8 = 25.\n",
    "\n",
    "Figure out where the navigation instructions lead. \n",
    "\n",
    "**What is the Manhattan distance between that location and the ship's starting position?**"
   ]
  },
  {
   "cell_type": "code",
   "execution_count": null,
   "metadata": {},
   "outputs": [],
   "source": [
    "FILENAME = \"data/Day_12_input.txt\""
   ]
  },
  {
   "cell_type": "code",
   "execution_count": null,
   "metadata": {},
   "outputs": [],
   "source": [
    "directions = '''\n",
    "F10\n",
    "N3\n",
    "F7\n",
    "R90\n",
    "F11\n",
    "'''.strip().split()\n",
    "print(directions)"
   ]
  },
  {
   "cell_type": "code",
   "execution_count": null,
   "metadata": {},
   "outputs": [],
   "source": [
    "def move_ship(curLoc,nav):\n",
    "    result = curLoc.copy()\n",
    "    if nav[0] in 'FNSEWB':\n",
    "        if nav[0] == 'N' or nav[0]=='F' and curLoc['orient'] == 270:\n",
    "            result['y'] += int(nav[1:])\n",
    "        if nav[0] == 'S' or nav[0]=='F' and curLoc['orient'] == 90:\n",
    "            result['y'] -= int(nav[1:])\n",
    "        if nav[0] == 'E' or nav[0]=='F' and curLoc['orient'] == 0:\n",
    "            result['x'] += int(nav[1:])\n",
    "        if nav[0] == 'W' or nav[0]=='F' and curLoc['orient'] == 180:\n",
    "            result['x'] -= int(nav[1:])\n",
    "\n",
    "    if nav[0] in 'RL':\n",
    "        if nav[0] == 'R':\n",
    "            # rotate the ship clockwise by nav[1:] degrees\n",
    "            result['orient'] += int(nav[1:])\n",
    "        if nav[0] == 'L':\n",
    "            result['orient'] -= int(nav[1:])\n",
    "\n",
    "        if result['orient'] >= 360:\n",
    "            result['orient'] -= 360\n",
    "        if result['orient'] < 0:\n",
    "            result['orient'] += 360\n",
    "    \n",
    "    return( result )"
   ]
  },
  {
   "cell_type": "code",
   "execution_count": null,
   "metadata": {
    "jupyter": {
     "outputs_hidden": true
    }
   },
   "outputs": [],
   "source": [
    "curLoc = { 'orient': 0, 'x': 0, 'y': 0}\n",
    "path = [curLoc]\n",
    "\n",
    "with open(FILENAME) as reader:\n",
    "    directions = reader.readlines()\n",
    "    \n",
    "directions = [inst.strip() for inst in directions]\n",
    "# print(directions)\n",
    "\n",
    "for inst in directions:\n",
    "    curLoc = move_ship(curLoc, inst)\n",
    "    print(\"{:4} => o: {:-3} x: {:4} y:{:4}\".format(inst,curLoc['orient'],curLoc['x'],curLoc['y']))\n",
    "    if curLoc == path[-1]:\n",
    "        print(\"Nothing changed\")\n",
    "        break\n",
    "    path.append(curLoc)\n",
    "\n",
    "# print(path)\n",
    "    \n",
    "print(\"Answer: \", abs(curLoc['x']) + abs(curLoc['y']))"
   ]
  },
  {
   "cell_type": "markdown",
   "metadata": {},
   "source": [
    "### --- Part Two ---\n",
    "\n",
    "Before you can give the destination to the captain, you realize that the actual action meanings were printed on the back of the instructions the whole time.\n",
    "\n",
    "Almost all of the actions indicate how to move a waypoint which is relative to the ship's position:\n",
    "\n",
    "- Action N means to move the waypoint north by the given value.\n",
    "- Action S means to move the waypoint south by the given value.\n",
    "- Action E means to move the waypoint east by the given value.\n",
    "- Action W means to move the waypoint west by the given value.\n",
    "- Action L means to rotate the waypoint around the ship left (counter-clockwise) the given number of degrees.\n",
    "- Action R means to rotate the waypoint around the ship right (clockwise) the given number of degrees.\n",
    "- Action F means to move forward to the waypoint a number of times equal to the given value.\n",
    "\n",
    "The waypoint starts 10 units east and 1 unit north relative to the ship. The waypoint is relative to the ship; that is, if the ship moves, the waypoint moves with it.\n",
    "\n",
    "For example, using the same instructions as above:\n",
    "\n",
    "- F10 moves the ship to the waypoint 10 times (a total of 100 units east and 10 units north), leaving the ship at east 100, north 10. The waypoint stays 10 units east and 1 unit north of the ship.\n",
    "- N3 moves the waypoint 3 units north to 10 units east and 4 units north of the ship. The ship remains at east 100, north 10.\n",
    "- F7 moves the ship to the waypoint 7 times (a total of 70 units east and 28 units north), leaving the ship at east 170, north 38. The waypoint stays 10 units east and 4 units north of the ship.\n",
    "- R90 rotates the waypoint around the ship clockwise 90 degrees, moving it to 4 units east and 10 units south of the ship. The ship remains at east 170, north 38.\n",
    "- F11 moves the ship to the waypoint 11 times (a total of 44 units east and 110 units south), leaving the ship at east 214, south 72. The waypoint stays 4 units east and 10 units south of the ship.\n",
    "After these operations, the ship's Manhattan distance from its starting position is 214 + 72 = 286.\n",
    "\n",
    "Figure out where the navigation instructions actually lead. What is the Manhattan distance between that location and the ship's starting position?"
   ]
  },
  {
   "cell_type": "code",
   "execution_count": null,
   "metadata": {},
   "outputs": [],
   "source": [
    "def move_ship_waypoint(curLoc,nav):\n",
    "    result = curLoc.copy()\n",
    "    # move the waypoint/target\n",
    "    if nav[0] in 'NSEW':\n",
    "        if nav[0] == 'N':\n",
    "            result['wy'] += int(nav[1:])\n",
    "        if nav[0] == 'S':\n",
    "            result['wy'] -= int(nav[1:])\n",
    "        if nav[0] == 'E':\n",
    "            result['wx'] += int(nav[1:])\n",
    "        if nav[0] == 'W':\n",
    "            result['wx'] -= int(nav[1:])\n",
    "    # rotate the waypoint around the ship\n",
    "    if nav[0] in 'RL':\n",
    "        if nav == 'R90' or nav == 'L270':\n",
    "            result['wx'] = curLoc['wy']\n",
    "            result['wy'] = -curLoc['wx']\n",
    "        elif int(nav[1:]) == 180:\n",
    "            result['wx'] = -curLoc['wx']\n",
    "            result['wy'] = -curLoc['wy']\n",
    "        elif nav == 'L90' or nav == 'R270':\n",
    "            result['wx'] = -curLoc['wy']\n",
    "            result['wy'] = curLoc['wx']\n",
    "            \n",
    "    # move the ship waypoint direction N times    \n",
    "    if nav[0] == 'F':\n",
    "        result['x'] += result['wx'] * int(nav[1:])\n",
    "        result['y'] += result['wy'] * int(nav[1:])\n",
    "    \n",
    "    return( result )"
   ]
  },
  {
   "cell_type": "code",
   "execution_count": null,
   "metadata": {},
   "outputs": [],
   "source": [
    "curLoc = { 'x': 0, 'y': 0, 'wx':10, 'wy':1}\n",
    "path = [curLoc]\n",
    "debug = False\n",
    "\n",
    "#with open(FILENAME) as reader:\n",
    "#    directions = reader.readlines()\n",
    "    \n",
    "#directions = [inst.strip() for inst in directions]\n",
    "#print(directions)\n",
    "\n",
    "for inst in directions:\n",
    "    curLoc = move_ship_waypoint(curLoc, inst)\n",
    "    if debug:\n",
    "        print(\"{:4} => wx: {:-3} wy: {:-3} x: {:4} y:{:4}\".format(inst,curLoc['wx'],curLoc['wy'],curLoc['x'],curLoc['y']))\n",
    "        if curLoc == path[-1]:\n",
    "            print(\"Nothing changed\")\n",
    "            raise \"Ship failed to change\"\n",
    "    path.append(curLoc)\n",
    "\n",
    "# print(path)\n",
    "    \n",
    "print(\"Answer: \", abs(curLoc['x']) + abs(curLoc['y']))"
   ]
  },
  {
   "cell_type": "markdown",
   "metadata": {},
   "source": [
    "# Done!\n",
    "\n",
    "For extra credit (not really any such thing) I wanted to experiment with plotting out the ship direction and course"
   ]
  },
  {
   "cell_type": "code",
   "execution_count": null,
   "metadata": {},
   "outputs": [],
   "source": [
    "\n",
    "\n",
    "\n",
    "\n",
    "from math import pi\n",
    "\n",
    "from bokeh.plotting import figure, output_file, show\n",
    "\n",
    "output_file('rectangles_rotated.html')\n",
    "\n",
    "p = figure(plot_width=400, plot_height=400)\n",
    "p.rect(x=[1, 2, 3], y=[1, 2, 3], width=0.1, height=40, color=\"#CAB2D6\",\n",
    "       angle=[0,90,100], height_units=\"screen\")\n",
    "\n",
    "show(p)"
   ]
  }
 ],
 "metadata": {
  "kernelspec": {
   "display_name": "Python 3",
   "language": "python",
   "name": "python3"
  },
  "language_info": {
   "codemirror_mode": {
    "name": "ipython",
    "version": 3
   },
   "file_extension": ".py",
   "mimetype": "text/x-python",
   "name": "python",
   "nbconvert_exporter": "python",
   "pygments_lexer": "ipython3",
   "version": "3.9.0"
  }
 },
 "nbformat": 4,
 "nbformat_minor": 4
}
