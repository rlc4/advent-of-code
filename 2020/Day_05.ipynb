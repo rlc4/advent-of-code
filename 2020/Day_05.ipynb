{
 "cells": [
  {
   "cell_type": "markdown",
   "metadata": {},
   "source": [
    "# Day 5: Binary Boarding"
   ]
  },
  {
   "cell_type": "markdown",
   "metadata": {},
   "source": [
    "## Part 1\n",
    "\n",
    "```\n",
    "You board your plane only to discover a new problem: you dropped your boarding pass! You aren't sure which seat is yours, and all of the flight attendants are busy with the flood of people that suddenly made it through passport control.\n",
    "\n",
    "You write a quick program to use your phone's camera to scan all of the nearby boarding passes (your puzzle input); perhaps you can find your seat through process of elimination.\n",
    "\n",
    "Instead of zones or groups, this airline uses binary space partitioning to seat people. A seat might be specified like FBFBBFFRLR, where F means \"front\", B means \"back\", L means \"left\", and R means \"right\".\n",
    "\n",
    "The first 7 characters will either be F or B; these specify exactly one of the 128 rows on the plane (numbered 0 through 127). Each letter tells you which half of a region the given seat is in. Start with the whole list of rows; the first letter indicates whether the seat is in the front (0 through 63) or the back (64 through 127). The next letter indicates which half of that region the seat is in, and so on until you're left with exactly one row.\n",
    "\n",
    "For example, consider just the first seven characters of FBFBBFFRLR:\n",
    "\n",
    "Start by considering the whole range, rows 0 through 127.\n",
    "F means to take the lower half, keeping rows 0 through 63.\n",
    "B means to take the upper half, keeping rows 32 through 63.\n",
    "F means to take the lower half, keeping rows 32 through 47.\n",
    "B means to take the upper half, keeping rows 40 through 47.\n",
    "B keeps rows 44 through 47.\n",
    "F keeps rows 44 through 45.\n",
    "The final F keeps the lower of the two, row 44.\n",
    "The last three characters will be either L or R; these specify exactly one of the 8 columns of seats on the plane (numbered 0 through 7). The same process as above proceeds again, this time with only three steps. L means to keep the lower half, while R means to keep the upper half.\n",
    "\n",
    "For example, consider just the last 3 characters of FBFBBFFRLR:\n",
    "\n",
    "Start by considering the whole range, columns 0 through 7.\n",
    "R means to take the upper half, keeping columns 4 through 7.\n",
    "L means to take the lower half, keeping columns 4 through 5.\n",
    "The final R keeps the upper of the two, column 5.\n",
    "So, decoding FBFBBFFRLR reveals that it is the seat at row 44, column 5.\n",
    "\n",
    "Every seat also has a unique seat ID: multiply the row by 8, then add the column. In this example, the seat has ID 44 * 8 + 5 = 357.\n",
    "\n",
    "Here are some other boarding passes:\n",
    "\n",
    "BFFFBBFRRR: row 70, column 7, seat ID 567.\n",
    "FFFBBBFRRR: row 14, column 7, seat ID 119.\n",
    "BBFFBBFRLL: row 102, column 4, seat ID 820.\n",
    "As a sanity check, look through your list of boarding passes. What is the highest seat ID on a boarding pass?\n",
    "```"
   ]
  },
  {
   "cell_type": "markdown",
   "metadata": {},
   "source": [
    "#### Part 1 - Solution Thoughts\n",
    "\n",
    "This is basically converting FB -> 01 == binary row number, RL -> 10 == binary seat number\n",
    "\n",
    "We're basically definining least and most significant digits from their description\n",
    "\n",
    "SeatID = row * 8 + seat #\n",
    "\n",
    "Quick method:\n",
    "* Traverse list of tickets\n",
    "    * Split each ticket into row & aisle\n",
    "    * Convert to integer\n",
    "    * Determine SeatID and set to True in array\n",
    "    * Set row-seat to False\n",
    "* Traverse seating chart\n",
    "    * Find 'True' seat\n",
    "    * Return row * 8 + aisle"
   ]
  },
  {
   "cell_type": "code",
   "execution_count": null,
   "metadata": {},
   "outputs": [],
   "source": [
    "debug = True\n",
    "FILENAME=\"data/Day_05_input.txt\""
   ]
  },
  {
   "cell_type": "markdown",
   "metadata": {},
   "source": [
    "# Method 1\n",
    "\n",
    "1. Initalize array of seats 0-127 x 0-7 -> 128x8 to O (Open)\n",
    "1. For each ticket:\n",
    "    1. Split the ticket into row & aisle\n",
    "    1. Convert FB -> 01, convert to int for row\n",
    "    1. Convert LR -> 01, convert to int for aisle\n",
    "    1. Set the row/aisle element of the array to T (Taken)\n",
    "    1. Store first and last rows filled for later use\n",
    "1. For debugging - print out the array of seats\n",
    "1. For each row with taken seats:\n",
    "    1. Traverse the aisles\n",
    "        1. If an \"O\" is found\n",
    "            1. Show the row, aisle, and seatid"
   ]
  },
  {
   "cell_type": "code",
   "execution_count": null,
   "metadata": {},
   "outputs": [],
   "source": [
    "import re\n",
    "\n",
    "max_row = 64\n",
    "min_row = 64\n",
    "count = 0\n",
    "seatarr = [['O' for x in range(8)] for x in range(128)] \n",
    "\n",
    "with open(FILENAME) as reader:\n",
    "    for line in reader.readlines():\n",
    "        line = line.strip()\n",
    "        count += 1\n",
    "        m = re.match('([FB]{7})([RL]{3})', line)\n",
    "        row_b = re.sub('F','0',re.sub('B','1', m.group(1)))\n",
    "        row = int(row_b ,2)\n",
    "        aisle_b = re.sub('L','0',re.sub('R','1', m.group(2)))\n",
    "        aisle = int(aisle_b,2)\n",
    "        if row > max_row:\n",
    "            max_row = row\n",
    "        if row < min_row:\n",
    "            min_row = row\n",
    "        seatarr[row][aisle] = 'T'\n",
    "        # print(\"{:-4}: {:8} -> {:7} {:3} => {:-4}{:-3} seatId: {}\\tRows - min: {}\\tmax: {}\".format(count, line,row_b,aisle_b,row,aisle, seatid, min_row,max_row))\n",
    "\n",
    "print(\"Rows -> Max: {}  Min: {}\".format(max_row,min_row))\n",
    "        \n",
    "print(\"Row       Aisle\")\n",
    "print(\"     0 1 2 3 4 5 6 7\")\n",
    "\n",
    "for row in range(min_row, max_row + 1):\n",
    "    print(\"{:-3}: {}\".format(row, \" \".join(seatarr[row])))\n",
    "    for aisle in range(0,8):\n",
    "        if seatarr[row][aisle] == 'O':\n",
    "            ans_row = row\n",
    "            ans_aisle = aisle\n",
    "            \n",
    "\n",
    "print(\"Row: \", ans_row, \"\\tAisle: \", ans_aisle, \"\\tSeatID: \", ans_row*8+ans_aisle)"
   ]
  },
  {
   "cell_type": "markdown",
   "metadata": {},
   "source": [
    "# Method 2\n",
    "\n",
    "Treat the full ticket as the seat identifier.\n",
    "Put it into an array of seats.\n",
    "Stash the lowest and highest possible seats.\n",
    "Find the 0 inside the range of seats taken.\n",
    "\n",
    "\n",
    "1. Intialize array from 0 to max seat id (128*8)\n",
    "1. For each ticket\n",
    "    1. Convert to binary\n",
    "    1. Convert to int\n",
    "    1. Set Array to 1 \n",
    "    1. Store min and max seats based on rows taken\n",
    "1. Traverse the seating array inside min & max range\n",
    "    1. Find the seatid that is still 0"
   ]
  },
  {
   "cell_type": "code",
   "execution_count": null,
   "metadata": {},
   "outputs": [],
   "source": [
    "import re\n",
    "from pprint import pprint\n",
    "\n",
    "max_seat = 444\n",
    "min_seat = 444\n",
    "seatarr = [0 for x in range(8*128)] \n",
    "\n",
    "with open(FILENAME) as reader:\n",
    "    for line in reader.readlines():\n",
    "        m = re.match('([FBRL]{10})',line.strip())\n",
    "        seatid_b = re.sub('[FL]', '0', re.sub('[BR]', '1', m.group(1)))\n",
    "        seatid = int(seatid_b, 2)\n",
    "        seatarr[seatid] = 1\n",
    "        if seatid > max_seat:\n",
    "            max_seat = (seatid // 8)*8+7 # set max_seat to the end of this row\n",
    "        if seatid < min_seat:\n",
    "            min_seat = (seatid // 8)*8  # set the min_seat to the start of this row\n",
    "            \n",
    "\n",
    "\n",
    "for seat in range(min_seat, max_seat + 1):\n",
    "    print(\"SeatID: {} => {}\".format(seat, seatarr[seat]))\n",
    "    if seatarr[seat] == 0:\n",
    "        ans = seat\n",
    "        \n",
    "print(\"Available: \", ans)\n"
   ]
  },
  {
   "cell_type": "markdown",
   "metadata": {},
   "source": [
    "### Method 3 - Math take 1 - split values\n",
    "\n",
    "1. For each line of the file\n",
    "    1. Parse the ticket into row and aisle\n",
    "    1. Add the row*8 + aisle to the seat values (A)\n",
    "    1. If a min/max store it\n",
    "1. Sum the range from min to max (B)\n",
    "2. Subtract seat values (A) from summed range (B)\n",
    "    \n",
    "    "
   ]
  },
  {
   "cell_type": "code",
   "execution_count": null,
   "metadata": {},
   "outputs": [],
   "source": [
    "import re\n",
    "\n",
    "max_row = 64\n",
    "min_row = 64\n",
    "seats = 0\n",
    "\n",
    "with open(FILENAME) as reader:\n",
    "    for line in reader.readlines():\n",
    "        m = re.match(r'([FB]{7})([RL]{3})', line.strip())\n",
    "        row_b = re.sub(r'[F]','0', re.sub(r'[B]', '1' , m.group(1)))\n",
    "        row = int(row_b, 2)\n",
    "        aisle_b = re.sub(r'[L]', '0', re.sub(r'[R]','1', m.group(2)))\n",
    "        aisle = int(aisle_b, 2)\n",
    "        if row > max_row:\n",
    "            max_row = row\n",
    "        if row < min_row:\n",
    "            min_row = row\n",
    "        seats += row*8 + aisle\n",
    "        \n",
    "all_seats = sum(range(min_row*8, (max_row+1)*8)) # could be done in O(1) with some math but lazy and this is clearer of what is happening\n",
    "print(\"SeatID: \", all_seats - seats)"
   ]
  },
  {
   "cell_type": "markdown",
   "metadata": {},
   "source": [
    "### Method 4 - Math take 2 - no splitting row/aisle\n",
    "\n",
    "1. For each line of the file\n",
    "    1. Convert the seat ID to an int based on the binary FL -> 0, BR -> 1\n",
    "    1. Store as min/max if smaller/larger than previously seen extremes\n",
    "    1. Add to total seats sum (A)\n",
    "1. Sum seats from min to max (B)\n",
    "1. Subtract total seats (A) from sum seats (B), this is your seatID\n"
   ]
  },
  {
   "cell_type": "code",
   "execution_count": null,
   "metadata": {},
   "outputs": [],
   "source": [
    "import re\n",
    "\n",
    "\n",
    "with open(FILENAME) as reader:\n",
    "    for line in reader.readlines():\n",
    "        line = line.strip()\n",
    "        m = re.match('([FBRL]{10})', line)\n",
    "        seatid = int( re.sub(r'[FL]','0', re.sub(r'[BR]','1', m.group(1) ) ), 2)\n",
    "        seatids += seatid\n",
    "        if seatid < min_seatid:\n",
    "            min_seatid = (seatid // 8) * 8  # Get the first seat in this row, to avoid first seat edge case\n",
    "        if  seatid > max_seatid:\n",
    "            max_seatid = (seatid // 8) * 8 + 7  # Set to the last seat in the row, to avoid last seat edge case\n",
    "\n",
    "all_seatids = sum(range(min_seatid, max_seatid + 1))\n",
    "print(\"{} - {} = {}\".format(all_seatids, seatids, all_seatids - seatids))\n",
    "        \n"
   ]
  },
  {
   "cell_type": "markdown",
   "metadata": {},
   "source": [
    "# Done !!!"
   ]
  },
  {
   "cell_type": "code",
   "execution_count": null,
   "metadata": {},
   "outputs": [],
   "source": []
  }
 ],
 "metadata": {
  "kernelspec": {
   "display_name": "Python 3",
   "language": "python",
   "name": "python3"
  },
  "language_info": {
   "codemirror_mode": {
    "name": "ipython",
    "version": 3
   },
   "file_extension": ".py",
   "mimetype": "text/x-python",
   "name": "python",
   "nbconvert_exporter": "python",
   "pygments_lexer": "ipython3",
   "version": "3.9.0"
  }
 },
 "nbformat": 4,
 "nbformat_minor": 4
}
